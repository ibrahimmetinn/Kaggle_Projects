{
 "cells": [
  {
   "cell_type": "code",
   "execution_count": 79,
   "id": "f104e97f",
   "metadata": {},
   "outputs": [],
   "source": [
    "import pandas as pd\n",
    "import matplotlib.pyplot as plt\n",
    "import seaborn as sns\n",
    "import numpy as np\n",
    "import sklearn"
   ]
  },
  {
   "cell_type": "code",
   "execution_count": 195,
   "id": "e4f998d1",
   "metadata": {},
   "outputs": [],
   "source": [
    "df=pd.read_csv(r\"C:\\Users\\ibrah\\Datasets\\sample_submission\\sample_submission.csv\")\n",
    "test_data=pd.read_csv(r\"C:\\Users\\ibrah\\Datasets\\sample_submission\\test.csv\")\n",
    "train=pd.read_csv(r\"C:\\Users\\ibrah\\Datasets\\sample_submission\\train.csv\")"
   ]
  },
  {
   "cell_type": "code",
   "execution_count": 196,
   "id": "98291667",
   "metadata": {
    "scrolled": true
   },
   "outputs": [
    {
     "data": {
      "text/html": [
       "<div>\n",
       "<style scoped>\n",
       "    .dataframe tbody tr th:only-of-type {\n",
       "        vertical-align: middle;\n",
       "    }\n",
       "\n",
       "    .dataframe tbody tr th {\n",
       "        vertical-align: top;\n",
       "    }\n",
       "\n",
       "    .dataframe thead th {\n",
       "        text-align: right;\n",
       "    }\n",
       "</style>\n",
       "<table border=\"1\" class=\"dataframe\">\n",
       "  <thead>\n",
       "    <tr style=\"text-align: right;\">\n",
       "      <th></th>\n",
       "      <th>id</th>\n",
       "      <th>Rings</th>\n",
       "    </tr>\n",
       "  </thead>\n",
       "  <tbody>\n",
       "    <tr>\n",
       "      <th>0</th>\n",
       "      <td>90615</td>\n",
       "      <td>10</td>\n",
       "    </tr>\n",
       "    <tr>\n",
       "      <th>1</th>\n",
       "      <td>90616</td>\n",
       "      <td>10</td>\n",
       "    </tr>\n",
       "    <tr>\n",
       "      <th>2</th>\n",
       "      <td>90617</td>\n",
       "      <td>10</td>\n",
       "    </tr>\n",
       "    <tr>\n",
       "      <th>3</th>\n",
       "      <td>90618</td>\n",
       "      <td>10</td>\n",
       "    </tr>\n",
       "    <tr>\n",
       "      <th>4</th>\n",
       "      <td>90619</td>\n",
       "      <td>10</td>\n",
       "    </tr>\n",
       "    <tr>\n",
       "      <th>...</th>\n",
       "      <td>...</td>\n",
       "      <td>...</td>\n",
       "    </tr>\n",
       "    <tr>\n",
       "      <th>60406</th>\n",
       "      <td>151021</td>\n",
       "      <td>10</td>\n",
       "    </tr>\n",
       "    <tr>\n",
       "      <th>60407</th>\n",
       "      <td>151022</td>\n",
       "      <td>10</td>\n",
       "    </tr>\n",
       "    <tr>\n",
       "      <th>60408</th>\n",
       "      <td>151023</td>\n",
       "      <td>10</td>\n",
       "    </tr>\n",
       "    <tr>\n",
       "      <th>60409</th>\n",
       "      <td>151024</td>\n",
       "      <td>10</td>\n",
       "    </tr>\n",
       "    <tr>\n",
       "      <th>60410</th>\n",
       "      <td>151025</td>\n",
       "      <td>10</td>\n",
       "    </tr>\n",
       "  </tbody>\n",
       "</table>\n",
       "<p>60411 rows × 2 columns</p>\n",
       "</div>"
      ],
      "text/plain": [
       "           id  Rings\n",
       "0       90615     10\n",
       "1       90616     10\n",
       "2       90617     10\n",
       "3       90618     10\n",
       "4       90619     10\n",
       "...       ...    ...\n",
       "60406  151021     10\n",
       "60407  151022     10\n",
       "60408  151023     10\n",
       "60409  151024     10\n",
       "60410  151025     10\n",
       "\n",
       "[60411 rows x 2 columns]"
      ]
     },
     "execution_count": 196,
     "metadata": {},
     "output_type": "execute_result"
    }
   ],
   "source": [
    "df"
   ]
  },
  {
   "cell_type": "code",
   "execution_count": 197,
   "id": "618e0d0d",
   "metadata": {},
   "outputs": [
    {
     "data": {
      "text/html": [
       "<div>\n",
       "<style scoped>\n",
       "    .dataframe tbody tr th:only-of-type {\n",
       "        vertical-align: middle;\n",
       "    }\n",
       "\n",
       "    .dataframe tbody tr th {\n",
       "        vertical-align: top;\n",
       "    }\n",
       "\n",
       "    .dataframe thead th {\n",
       "        text-align: right;\n",
       "    }\n",
       "</style>\n",
       "<table border=\"1\" class=\"dataframe\">\n",
       "  <thead>\n",
       "    <tr style=\"text-align: right;\">\n",
       "      <th></th>\n",
       "      <th>id</th>\n",
       "      <th>Sex</th>\n",
       "      <th>Length</th>\n",
       "      <th>Diameter</th>\n",
       "      <th>Height</th>\n",
       "      <th>Whole weight</th>\n",
       "      <th>Whole weight.1</th>\n",
       "      <th>Whole weight.2</th>\n",
       "      <th>Shell weight</th>\n",
       "    </tr>\n",
       "  </thead>\n",
       "  <tbody>\n",
       "    <tr>\n",
       "      <th>0</th>\n",
       "      <td>90615</td>\n",
       "      <td>1.0</td>\n",
       "      <td>0.645</td>\n",
       "      <td>0.475</td>\n",
       "      <td>0.155</td>\n",
       "      <td>1.2380</td>\n",
       "      <td>0.6185</td>\n",
       "      <td>0.3125</td>\n",
       "      <td>0.3005</td>\n",
       "    </tr>\n",
       "    <tr>\n",
       "      <th>1</th>\n",
       "      <td>90616</td>\n",
       "      <td>1.0</td>\n",
       "      <td>0.580</td>\n",
       "      <td>0.460</td>\n",
       "      <td>0.160</td>\n",
       "      <td>0.9830</td>\n",
       "      <td>0.4785</td>\n",
       "      <td>0.2195</td>\n",
       "      <td>0.2750</td>\n",
       "    </tr>\n",
       "    <tr>\n",
       "      <th>2</th>\n",
       "      <td>90617</td>\n",
       "      <td>1.0</td>\n",
       "      <td>0.560</td>\n",
       "      <td>0.420</td>\n",
       "      <td>0.140</td>\n",
       "      <td>0.8395</td>\n",
       "      <td>0.3525</td>\n",
       "      <td>0.1845</td>\n",
       "      <td>0.2405</td>\n",
       "    </tr>\n",
       "    <tr>\n",
       "      <th>3</th>\n",
       "      <td>90618</td>\n",
       "      <td>1.0</td>\n",
       "      <td>0.570</td>\n",
       "      <td>0.490</td>\n",
       "      <td>0.145</td>\n",
       "      <td>0.8740</td>\n",
       "      <td>0.3525</td>\n",
       "      <td>0.1865</td>\n",
       "      <td>0.2350</td>\n",
       "    </tr>\n",
       "    <tr>\n",
       "      <th>4</th>\n",
       "      <td>90619</td>\n",
       "      <td>0.0</td>\n",
       "      <td>0.415</td>\n",
       "      <td>0.325</td>\n",
       "      <td>0.110</td>\n",
       "      <td>0.3580</td>\n",
       "      <td>0.1575</td>\n",
       "      <td>0.0670</td>\n",
       "      <td>0.1050</td>\n",
       "    </tr>\n",
       "    <tr>\n",
       "      <th>...</th>\n",
       "      <td>...</td>\n",
       "      <td>...</td>\n",
       "      <td>...</td>\n",
       "      <td>...</td>\n",
       "      <td>...</td>\n",
       "      <td>...</td>\n",
       "      <td>...</td>\n",
       "      <td>...</td>\n",
       "      <td>...</td>\n",
       "    </tr>\n",
       "    <tr>\n",
       "      <th>60406</th>\n",
       "      <td>151021</td>\n",
       "      <td>0.0</td>\n",
       "      <td>0.345</td>\n",
       "      <td>0.260</td>\n",
       "      <td>0.085</td>\n",
       "      <td>0.1775</td>\n",
       "      <td>0.0735</td>\n",
       "      <td>0.0265</td>\n",
       "      <td>0.0500</td>\n",
       "    </tr>\n",
       "    <tr>\n",
       "      <th>60407</th>\n",
       "      <td>151022</td>\n",
       "      <td>2.0</td>\n",
       "      <td>0.525</td>\n",
       "      <td>0.410</td>\n",
       "      <td>0.145</td>\n",
       "      <td>0.8445</td>\n",
       "      <td>0.3885</td>\n",
       "      <td>0.1670</td>\n",
       "      <td>0.2050</td>\n",
       "    </tr>\n",
       "    <tr>\n",
       "      <th>60408</th>\n",
       "      <td>151023</td>\n",
       "      <td>0.0</td>\n",
       "      <td>0.590</td>\n",
       "      <td>0.440</td>\n",
       "      <td>0.155</td>\n",
       "      <td>1.1220</td>\n",
       "      <td>0.3930</td>\n",
       "      <td>0.2000</td>\n",
       "      <td>0.2650</td>\n",
       "    </tr>\n",
       "    <tr>\n",
       "      <th>60409</th>\n",
       "      <td>151024</td>\n",
       "      <td>2.0</td>\n",
       "      <td>0.660</td>\n",
       "      <td>0.525</td>\n",
       "      <td>0.190</td>\n",
       "      <td>1.4935</td>\n",
       "      <td>0.5885</td>\n",
       "      <td>0.3575</td>\n",
       "      <td>0.4350</td>\n",
       "    </tr>\n",
       "    <tr>\n",
       "      <th>60410</th>\n",
       "      <td>151025</td>\n",
       "      <td>2.0</td>\n",
       "      <td>0.430</td>\n",
       "      <td>0.340</td>\n",
       "      <td>0.120</td>\n",
       "      <td>0.4150</td>\n",
       "      <td>0.1525</td>\n",
       "      <td>0.0910</td>\n",
       "      <td>0.0905</td>\n",
       "    </tr>\n",
       "  </tbody>\n",
       "</table>\n",
       "<p>60411 rows × 9 columns</p>\n",
       "</div>"
      ],
      "text/plain": [
       "           id  Sex  Length  Diameter  Height  Whole weight  Whole weight.1  \\\n",
       "0       90615  1.0   0.645     0.475   0.155        1.2380          0.6185   \n",
       "1       90616  1.0   0.580     0.460   0.160        0.9830          0.4785   \n",
       "2       90617  1.0   0.560     0.420   0.140        0.8395          0.3525   \n",
       "3       90618  1.0   0.570     0.490   0.145        0.8740          0.3525   \n",
       "4       90619  0.0   0.415     0.325   0.110        0.3580          0.1575   \n",
       "...       ...  ...     ...       ...     ...           ...             ...   \n",
       "60406  151021  0.0   0.345     0.260   0.085        0.1775          0.0735   \n",
       "60407  151022  2.0   0.525     0.410   0.145        0.8445          0.3885   \n",
       "60408  151023  0.0   0.590     0.440   0.155        1.1220          0.3930   \n",
       "60409  151024  2.0   0.660     0.525   0.190        1.4935          0.5885   \n",
       "60410  151025  2.0   0.430     0.340   0.120        0.4150          0.1525   \n",
       "\n",
       "       Whole weight.2  Shell weight  \n",
       "0              0.3125        0.3005  \n",
       "1              0.2195        0.2750  \n",
       "2              0.1845        0.2405  \n",
       "3              0.1865        0.2350  \n",
       "4              0.0670        0.1050  \n",
       "...               ...           ...  \n",
       "60406          0.0265        0.0500  \n",
       "60407          0.1670        0.2050  \n",
       "60408          0.2000        0.2650  \n",
       "60409          0.3575        0.4350  \n",
       "60410          0.0910        0.0905  \n",
       "\n",
       "[60411 rows x 9 columns]"
      ]
     },
     "execution_count": 197,
     "metadata": {},
     "output_type": "execute_result"
    }
   ],
   "source": [
    "test"
   ]
  },
  {
   "cell_type": "code",
   "execution_count": 198,
   "id": "e504cd52",
   "metadata": {},
   "outputs": [
    {
     "name": "stdout",
     "output_type": "stream",
     "text": [
      "<class 'pandas.core.frame.DataFrame'>\n",
      "RangeIndex: 90615 entries, 0 to 90614\n",
      "Data columns (total 10 columns):\n",
      " #   Column          Non-Null Count  Dtype  \n",
      "---  ------          --------------  -----  \n",
      " 0   id              90615 non-null  int64  \n",
      " 1   Sex             90615 non-null  object \n",
      " 2   Length          90615 non-null  float64\n",
      " 3   Diameter        90615 non-null  float64\n",
      " 4   Height          90615 non-null  float64\n",
      " 5   Whole weight    90615 non-null  float64\n",
      " 6   Whole weight.1  90615 non-null  float64\n",
      " 7   Whole weight.2  90615 non-null  float64\n",
      " 8   Shell weight    90615 non-null  float64\n",
      " 9   Rings           90615 non-null  int64  \n",
      "dtypes: float64(7), int64(2), object(1)\n",
      "memory usage: 6.9+ MB\n"
     ]
    }
   ],
   "source": [
    "train.info()"
   ]
  },
  {
   "cell_type": "code",
   "execution_count": 199,
   "id": "834f2329",
   "metadata": {},
   "outputs": [
    {
     "name": "stdout",
     "output_type": "stream",
     "text": [
      "<class 'pandas.core.frame.DataFrame'>\n",
      "RangeIndex: 60411 entries, 0 to 60410\n",
      "Data columns (total 9 columns):\n",
      " #   Column          Non-Null Count  Dtype  \n",
      "---  ------          --------------  -----  \n",
      " 0   id              60411 non-null  int64  \n",
      " 1   Sex             60411 non-null  float64\n",
      " 2   Length          60411 non-null  float64\n",
      " 3   Diameter        60411 non-null  float64\n",
      " 4   Height          60411 non-null  float64\n",
      " 5   Whole weight    60411 non-null  float64\n",
      " 6   Whole weight.1  60411 non-null  float64\n",
      " 7   Whole weight.2  60411 non-null  float64\n",
      " 8   Shell weight    60411 non-null  float64\n",
      "dtypes: float64(8), int64(1)\n",
      "memory usage: 4.1 MB\n"
     ]
    }
   ],
   "source": [
    "test.info()"
   ]
  },
  {
   "cell_type": "code",
   "execution_count": 200,
   "id": "46936fda",
   "metadata": {
    "scrolled": true
   },
   "outputs": [
    {
     "data": {
      "text/html": [
       "<div>\n",
       "<style scoped>\n",
       "    .dataframe tbody tr th:only-of-type {\n",
       "        vertical-align: middle;\n",
       "    }\n",
       "\n",
       "    .dataframe tbody tr th {\n",
       "        vertical-align: top;\n",
       "    }\n",
       "\n",
       "    .dataframe thead th {\n",
       "        text-align: right;\n",
       "    }\n",
       "</style>\n",
       "<table border=\"1\" class=\"dataframe\">\n",
       "  <thead>\n",
       "    <tr style=\"text-align: right;\">\n",
       "      <th></th>\n",
       "      <th>id</th>\n",
       "      <th>Sex</th>\n",
       "      <th>Length</th>\n",
       "      <th>Diameter</th>\n",
       "      <th>Height</th>\n",
       "      <th>Whole weight</th>\n",
       "      <th>Whole weight.1</th>\n",
       "      <th>Whole weight.2</th>\n",
       "      <th>Shell weight</th>\n",
       "      <th>Rings</th>\n",
       "    </tr>\n",
       "  </thead>\n",
       "  <tbody>\n",
       "    <tr>\n",
       "      <th>0</th>\n",
       "      <td>0</td>\n",
       "      <td>F</td>\n",
       "      <td>0.550</td>\n",
       "      <td>0.430</td>\n",
       "      <td>0.150</td>\n",
       "      <td>0.7715</td>\n",
       "      <td>0.3285</td>\n",
       "      <td>0.1465</td>\n",
       "      <td>0.2400</td>\n",
       "      <td>11</td>\n",
       "    </tr>\n",
       "    <tr>\n",
       "      <th>1</th>\n",
       "      <td>1</td>\n",
       "      <td>F</td>\n",
       "      <td>0.630</td>\n",
       "      <td>0.490</td>\n",
       "      <td>0.145</td>\n",
       "      <td>1.1300</td>\n",
       "      <td>0.4580</td>\n",
       "      <td>0.2765</td>\n",
       "      <td>0.3200</td>\n",
       "      <td>11</td>\n",
       "    </tr>\n",
       "    <tr>\n",
       "      <th>2</th>\n",
       "      <td>2</td>\n",
       "      <td>I</td>\n",
       "      <td>0.160</td>\n",
       "      <td>0.110</td>\n",
       "      <td>0.025</td>\n",
       "      <td>0.0210</td>\n",
       "      <td>0.0055</td>\n",
       "      <td>0.0030</td>\n",
       "      <td>0.0050</td>\n",
       "      <td>6</td>\n",
       "    </tr>\n",
       "    <tr>\n",
       "      <th>3</th>\n",
       "      <td>3</td>\n",
       "      <td>M</td>\n",
       "      <td>0.595</td>\n",
       "      <td>0.475</td>\n",
       "      <td>0.150</td>\n",
       "      <td>0.9145</td>\n",
       "      <td>0.3755</td>\n",
       "      <td>0.2055</td>\n",
       "      <td>0.2500</td>\n",
       "      <td>10</td>\n",
       "    </tr>\n",
       "    <tr>\n",
       "      <th>4</th>\n",
       "      <td>4</td>\n",
       "      <td>I</td>\n",
       "      <td>0.555</td>\n",
       "      <td>0.425</td>\n",
       "      <td>0.130</td>\n",
       "      <td>0.7820</td>\n",
       "      <td>0.3695</td>\n",
       "      <td>0.1600</td>\n",
       "      <td>0.1975</td>\n",
       "      <td>9</td>\n",
       "    </tr>\n",
       "    <tr>\n",
       "      <th>...</th>\n",
       "      <td>...</td>\n",
       "      <td>...</td>\n",
       "      <td>...</td>\n",
       "      <td>...</td>\n",
       "      <td>...</td>\n",
       "      <td>...</td>\n",
       "      <td>...</td>\n",
       "      <td>...</td>\n",
       "      <td>...</td>\n",
       "      <td>...</td>\n",
       "    </tr>\n",
       "    <tr>\n",
       "      <th>90610</th>\n",
       "      <td>90610</td>\n",
       "      <td>M</td>\n",
       "      <td>0.335</td>\n",
       "      <td>0.235</td>\n",
       "      <td>0.075</td>\n",
       "      <td>0.1585</td>\n",
       "      <td>0.0685</td>\n",
       "      <td>0.0370</td>\n",
       "      <td>0.0450</td>\n",
       "      <td>6</td>\n",
       "    </tr>\n",
       "    <tr>\n",
       "      <th>90611</th>\n",
       "      <td>90611</td>\n",
       "      <td>M</td>\n",
       "      <td>0.555</td>\n",
       "      <td>0.425</td>\n",
       "      <td>0.150</td>\n",
       "      <td>0.8790</td>\n",
       "      <td>0.3865</td>\n",
       "      <td>0.1815</td>\n",
       "      <td>0.2400</td>\n",
       "      <td>9</td>\n",
       "    </tr>\n",
       "    <tr>\n",
       "      <th>90612</th>\n",
       "      <td>90612</td>\n",
       "      <td>I</td>\n",
       "      <td>0.435</td>\n",
       "      <td>0.330</td>\n",
       "      <td>0.095</td>\n",
       "      <td>0.3215</td>\n",
       "      <td>0.1510</td>\n",
       "      <td>0.0785</td>\n",
       "      <td>0.0815</td>\n",
       "      <td>6</td>\n",
       "    </tr>\n",
       "    <tr>\n",
       "      <th>90613</th>\n",
       "      <td>90613</td>\n",
       "      <td>I</td>\n",
       "      <td>0.345</td>\n",
       "      <td>0.270</td>\n",
       "      <td>0.075</td>\n",
       "      <td>0.2000</td>\n",
       "      <td>0.0980</td>\n",
       "      <td>0.0490</td>\n",
       "      <td>0.0700</td>\n",
       "      <td>6</td>\n",
       "    </tr>\n",
       "    <tr>\n",
       "      <th>90614</th>\n",
       "      <td>90614</td>\n",
       "      <td>I</td>\n",
       "      <td>0.425</td>\n",
       "      <td>0.325</td>\n",
       "      <td>0.100</td>\n",
       "      <td>0.3455</td>\n",
       "      <td>0.1525</td>\n",
       "      <td>0.0785</td>\n",
       "      <td>0.1050</td>\n",
       "      <td>8</td>\n",
       "    </tr>\n",
       "  </tbody>\n",
       "</table>\n",
       "<p>90615 rows × 10 columns</p>\n",
       "</div>"
      ],
      "text/plain": [
       "          id Sex  Length  Diameter  Height  Whole weight  Whole weight.1  \\\n",
       "0          0   F   0.550     0.430   0.150        0.7715          0.3285   \n",
       "1          1   F   0.630     0.490   0.145        1.1300          0.4580   \n",
       "2          2   I   0.160     0.110   0.025        0.0210          0.0055   \n",
       "3          3   M   0.595     0.475   0.150        0.9145          0.3755   \n",
       "4          4   I   0.555     0.425   0.130        0.7820          0.3695   \n",
       "...      ...  ..     ...       ...     ...           ...             ...   \n",
       "90610  90610   M   0.335     0.235   0.075        0.1585          0.0685   \n",
       "90611  90611   M   0.555     0.425   0.150        0.8790          0.3865   \n",
       "90612  90612   I   0.435     0.330   0.095        0.3215          0.1510   \n",
       "90613  90613   I   0.345     0.270   0.075        0.2000          0.0980   \n",
       "90614  90614   I   0.425     0.325   0.100        0.3455          0.1525   \n",
       "\n",
       "       Whole weight.2  Shell weight  Rings  \n",
       "0              0.1465        0.2400     11  \n",
       "1              0.2765        0.3200     11  \n",
       "2              0.0030        0.0050      6  \n",
       "3              0.2055        0.2500     10  \n",
       "4              0.1600        0.1975      9  \n",
       "...               ...           ...    ...  \n",
       "90610          0.0370        0.0450      6  \n",
       "90611          0.1815        0.2400      9  \n",
       "90612          0.0785        0.0815      6  \n",
       "90613          0.0490        0.0700      6  \n",
       "90614          0.0785        0.1050      8  \n",
       "\n",
       "[90615 rows x 10 columns]"
      ]
     },
     "execution_count": 200,
     "metadata": {},
     "output_type": "execute_result"
    }
   ],
   "source": [
    "train"
   ]
  },
  {
   "cell_type": "code",
   "execution_count": 201,
   "id": "1d9d850c",
   "metadata": {},
   "outputs": [
    {
     "data": {
      "text/plain": [
       "Sex\n",
       "I    33093\n",
       "M    31027\n",
       "F    26495\n",
       "Name: count, dtype: int64"
      ]
     },
     "execution_count": 201,
     "metadata": {},
     "output_type": "execute_result"
    }
   ],
   "source": [
    "train[\"Sex\"].value_counts()"
   ]
  },
  {
   "cell_type": "markdown",
   "id": "be042130",
   "metadata": {},
   "source": [
    "###  Encoding"
   ]
  },
  {
   "cell_type": "code",
   "execution_count": 202,
   "id": "31db75f1",
   "metadata": {},
   "outputs": [],
   "source": [
    "train['Sex'] = train['Sex'].map({'M': 1.0, 'F': 2.0,'I':0.0})\n",
    "#M : 1 | F: 0 | I : 2"
   ]
  },
  {
   "cell_type": "code",
   "execution_count": 208,
   "id": "888c7157",
   "metadata": {},
   "outputs": [],
   "source": [
    "test_data['Sex'] = test_data['Sex'].map({'M': 1.0, 'F': 2.0,'I':0.0})"
   ]
  },
  {
   "cell_type": "markdown",
   "id": "5deb9e11",
   "metadata": {},
   "source": [
    "# Correlation matris "
   ]
  },
  {
   "cell_type": "code",
   "execution_count": 204,
   "id": "2f4839db",
   "metadata": {},
   "outputs": [],
   "source": [
    "correlation_matrix = train.corr()"
   ]
  },
  {
   "cell_type": "code",
   "execution_count": 205,
   "id": "84b9d764",
   "metadata": {
    "scrolled": true
   },
   "outputs": [
    {
     "data": {
      "text/html": [
       "<div>\n",
       "<style scoped>\n",
       "    .dataframe tbody tr th:only-of-type {\n",
       "        vertical-align: middle;\n",
       "    }\n",
       "\n",
       "    .dataframe tbody tr th {\n",
       "        vertical-align: top;\n",
       "    }\n",
       "\n",
       "    .dataframe thead th {\n",
       "        text-align: right;\n",
       "    }\n",
       "</style>\n",
       "<table border=\"1\" class=\"dataframe\">\n",
       "  <thead>\n",
       "    <tr style=\"text-align: right;\">\n",
       "      <th></th>\n",
       "      <th>id</th>\n",
       "      <th>Sex</th>\n",
       "      <th>Length</th>\n",
       "      <th>Diameter</th>\n",
       "      <th>Height</th>\n",
       "      <th>Whole weight</th>\n",
       "      <th>Whole weight.1</th>\n",
       "      <th>Whole weight.2</th>\n",
       "      <th>Shell weight</th>\n",
       "      <th>Rings</th>\n",
       "    </tr>\n",
       "  </thead>\n",
       "  <tbody>\n",
       "    <tr>\n",
       "      <th>id</th>\n",
       "      <td>1.000000</td>\n",
       "      <td>0.006248</td>\n",
       "      <td>0.004724</td>\n",
       "      <td>0.004290</td>\n",
       "      <td>0.005916</td>\n",
       "      <td>0.005228</td>\n",
       "      <td>0.004203</td>\n",
       "      <td>0.004878</td>\n",
       "      <td>0.005887</td>\n",
       "      <td>0.000938</td>\n",
       "    </tr>\n",
       "    <tr>\n",
       "      <th>Sex</th>\n",
       "      <td>0.006248</td>\n",
       "      <td>1.000000</td>\n",
       "      <td>0.597219</td>\n",
       "      <td>0.605122</td>\n",
       "      <td>0.591682</td>\n",
       "      <td>0.595995</td>\n",
       "      <td>0.562399</td>\n",
       "      <td>0.594244</td>\n",
       "      <td>0.595952</td>\n",
       "      <td>0.474908</td>\n",
       "    </tr>\n",
       "    <tr>\n",
       "      <th>Length</th>\n",
       "      <td>0.004724</td>\n",
       "      <td>0.597219</td>\n",
       "      <td>1.000000</td>\n",
       "      <td>0.989732</td>\n",
       "      <td>0.916094</td>\n",
       "      <td>0.931449</td>\n",
       "      <td>0.909609</td>\n",
       "      <td>0.913134</td>\n",
       "      <td>0.911073</td>\n",
       "      <td>0.623786</td>\n",
       "    </tr>\n",
       "    <tr>\n",
       "      <th>Diameter</th>\n",
       "      <td>0.004290</td>\n",
       "      <td>0.605122</td>\n",
       "      <td>0.989732</td>\n",
       "      <td>1.000000</td>\n",
       "      <td>0.919618</td>\n",
       "      <td>0.933848</td>\n",
       "      <td>0.908466</td>\n",
       "      <td>0.914668</td>\n",
       "      <td>0.917871</td>\n",
       "      <td>0.636832</td>\n",
       "    </tr>\n",
       "    <tr>\n",
       "      <th>Height</th>\n",
       "      <td>0.005916</td>\n",
       "      <td>0.591682</td>\n",
       "      <td>0.916094</td>\n",
       "      <td>0.919618</td>\n",
       "      <td>1.000000</td>\n",
       "      <td>0.902344</td>\n",
       "      <td>0.861769</td>\n",
       "      <td>0.886132</td>\n",
       "      <td>0.904019</td>\n",
       "      <td>0.665772</td>\n",
       "    </tr>\n",
       "    <tr>\n",
       "      <th>Whole weight</th>\n",
       "      <td>0.005228</td>\n",
       "      <td>0.595995</td>\n",
       "      <td>0.931449</td>\n",
       "      <td>0.933848</td>\n",
       "      <td>0.902344</td>\n",
       "      <td>1.000000</td>\n",
       "      <td>0.971249</td>\n",
       "      <td>0.974319</td>\n",
       "      <td>0.964201</td>\n",
       "      <td>0.617274</td>\n",
       "    </tr>\n",
       "    <tr>\n",
       "      <th>Whole weight.1</th>\n",
       "      <td>0.004203</td>\n",
       "      <td>0.562399</td>\n",
       "      <td>0.909609</td>\n",
       "      <td>0.908466</td>\n",
       "      <td>0.861769</td>\n",
       "      <td>0.971249</td>\n",
       "      <td>1.000000</td>\n",
       "      <td>0.949227</td>\n",
       "      <td>0.911800</td>\n",
       "      <td>0.515067</td>\n",
       "    </tr>\n",
       "    <tr>\n",
       "      <th>Whole weight.2</th>\n",
       "      <td>0.004878</td>\n",
       "      <td>0.594244</td>\n",
       "      <td>0.913134</td>\n",
       "      <td>0.914668</td>\n",
       "      <td>0.886132</td>\n",
       "      <td>0.974319</td>\n",
       "      <td>0.949227</td>\n",
       "      <td>1.000000</td>\n",
       "      <td>0.937069</td>\n",
       "      <td>0.588954</td>\n",
       "    </tr>\n",
       "    <tr>\n",
       "      <th>Shell weight</th>\n",
       "      <td>0.005887</td>\n",
       "      <td>0.595952</td>\n",
       "      <td>0.911073</td>\n",
       "      <td>0.917871</td>\n",
       "      <td>0.904019</td>\n",
       "      <td>0.964201</td>\n",
       "      <td>0.911800</td>\n",
       "      <td>0.937069</td>\n",
       "      <td>1.000000</td>\n",
       "      <td>0.694766</td>\n",
       "    </tr>\n",
       "    <tr>\n",
       "      <th>Rings</th>\n",
       "      <td>0.000938</td>\n",
       "      <td>0.474908</td>\n",
       "      <td>0.623786</td>\n",
       "      <td>0.636832</td>\n",
       "      <td>0.665772</td>\n",
       "      <td>0.617274</td>\n",
       "      <td>0.515067</td>\n",
       "      <td>0.588954</td>\n",
       "      <td>0.694766</td>\n",
       "      <td>1.000000</td>\n",
       "    </tr>\n",
       "  </tbody>\n",
       "</table>\n",
       "</div>"
      ],
      "text/plain": [
       "                      id       Sex    Length  Diameter    Height  \\\n",
       "id              1.000000  0.006248  0.004724  0.004290  0.005916   \n",
       "Sex             0.006248  1.000000  0.597219  0.605122  0.591682   \n",
       "Length          0.004724  0.597219  1.000000  0.989732  0.916094   \n",
       "Diameter        0.004290  0.605122  0.989732  1.000000  0.919618   \n",
       "Height          0.005916  0.591682  0.916094  0.919618  1.000000   \n",
       "Whole weight    0.005228  0.595995  0.931449  0.933848  0.902344   \n",
       "Whole weight.1  0.004203  0.562399  0.909609  0.908466  0.861769   \n",
       "Whole weight.2  0.004878  0.594244  0.913134  0.914668  0.886132   \n",
       "Shell weight    0.005887  0.595952  0.911073  0.917871  0.904019   \n",
       "Rings           0.000938  0.474908  0.623786  0.636832  0.665772   \n",
       "\n",
       "                Whole weight  Whole weight.1  Whole weight.2  Shell weight  \\\n",
       "id                  0.005228        0.004203        0.004878      0.005887   \n",
       "Sex                 0.595995        0.562399        0.594244      0.595952   \n",
       "Length              0.931449        0.909609        0.913134      0.911073   \n",
       "Diameter            0.933848        0.908466        0.914668      0.917871   \n",
       "Height              0.902344        0.861769        0.886132      0.904019   \n",
       "Whole weight        1.000000        0.971249        0.974319      0.964201   \n",
       "Whole weight.1      0.971249        1.000000        0.949227      0.911800   \n",
       "Whole weight.2      0.974319        0.949227        1.000000      0.937069   \n",
       "Shell weight        0.964201        0.911800        0.937069      1.000000   \n",
       "Rings               0.617274        0.515067        0.588954      0.694766   \n",
       "\n",
       "                   Rings  \n",
       "id              0.000938  \n",
       "Sex             0.474908  \n",
       "Length          0.623786  \n",
       "Diameter        0.636832  \n",
       "Height          0.665772  \n",
       "Whole weight    0.617274  \n",
       "Whole weight.1  0.515067  \n",
       "Whole weight.2  0.588954  \n",
       "Shell weight    0.694766  \n",
       "Rings           1.000000  "
      ]
     },
     "execution_count": 205,
     "metadata": {},
     "output_type": "execute_result"
    }
   ],
   "source": [
    "correlation_matrix"
   ]
  },
  {
   "cell_type": "code",
   "execution_count": 206,
   "id": "83504cd3",
   "metadata": {
    "scrolled": false
   },
   "outputs": [
    {
     "data": {
      "image/png": "[encoded data removed]",
      "text/plain": [
       "<Figure size 1000x800 with 2 Axes>"
      ]
     },
     "metadata": {},
     "output_type": "display_data"
    }
   ],
   "source": [
    "plt.figure(figsize=(10, 8))\n",
    "sns.heatmap(correlation_matrix, annot=True, cmap='coolwarm', fmt=\".2f\")\n",
    "plt.title('Correlation Matris')\n",
    "plt.show()"
   ]
  },
  {
   "cell_type": "markdown",
   "id": "02f59ac4",
   "metadata": {},
   "source": [
    "# import for model "
   ]
  },
  {
   "cell_type": "code",
   "execution_count": 211,
   "id": "cd998b59",
   "metadata": {
    "scrolled": false
   },
   "outputs": [],
   "source": [
    "from sklearn.inspection import permutation_importance\n",
    "from sklearn.model_selection import train_test_split\n",
    "from sklearn.ensemble import RandomForestRegressor\n",
    "import sklearn.linear_model as lm\n",
    "from sklearn.svm import SVR\n",
    "from sklearn.linear_model import Lasso\n",
    "from sklearn.linear_model import Ridge\n",
    "from sklearn.linear_model import ElasticNet\n",
    "from sklearn.tree import DecisionTreeRegressor"
   ]
  },
  {
   "cell_type": "markdown",
   "id": "799aac3d",
   "metadata": {},
   "source": [
    "# Features selecting and train test split function "
   ]
  },
  {
   "cell_type": "code",
   "execution_count": 212,
   "id": "ac119784",
   "metadata": {},
   "outputs": [],
   "source": [
    "features=[\"Sex\",\"Length\",\"Diameter\",\"Height\",\"Whole weight\",\"Whole weight.1\",\"Whole weight.2\",\"Shell weight\"]\n",
    "# Train data to train \n",
    "X = train[features]\n",
    "y = train[\"Rings\"]\n",
    "\n",
    "X_train,X_test,y_train,y_test=train_test_split(X, y,test_size=0.2, random_state=0) "
   ]
  },
  {
   "cell_type": "markdown",
   "id": "ac4d0716",
   "metadata": {},
   "source": [
    "# Train and Predict with all regression"
   ]
  },
  {
   "cell_type": "markdown",
   "id": "067da142",
   "metadata": {},
   "source": [
    "### Random Forest Regression train and predict"
   ]
  },
  {
   "cell_type": "code",
   "execution_count": 214,
   "id": "fa674051",
   "metadata": {},
   "outputs": [],
   "source": [
    "# Random Forest Regressor modelini oluşturalım\n",
    "model = RandomForestRegressor()\n",
    "\n",
    "# Modeli eğitelim\n",
    "model.fit(X_train, y_train)\n",
    "\n",
    "# Model predict\n",
    "model_pred=model.predict(X_test)"
   ]
  },
  {
   "cell_type": "markdown",
   "id": "bb31d051",
   "metadata": {},
   "source": [
    "### Linear Regression train and predict"
   ]
  },
  {
   "cell_type": "code",
   "execution_count": 149,
   "id": "f7954f7d",
   "metadata": {},
   "outputs": [],
   "source": [
    "linear_model=lm.LinearRegression()\n",
    "\n",
    "#fit\n",
    "linear_model.fit(X_train,y_train)\n",
    "\n",
    "#predict\n",
    "lm_pred=linear_model.predict(X_test)"
   ]
  },
  {
   "cell_type": "markdown",
   "id": "ec8f6483",
   "metadata": {},
   "source": [
    "### Support Vector Regression train and predict"
   ]
  },
  {
   "cell_type": "code",
   "execution_count": 158,
   "id": "5e0acf6e",
   "metadata": {},
   "outputs": [
    {
     "name": "stdout",
     "output_type": "stream",
     "text": [
      "Test R^2: 0.623641179479304\n"
     ]
    }
   ],
   "source": [
    "svr_model = SVR(kernel='rbf', C=100, gamma='auto')  # RBF core utilisation\n",
    "\n",
    "# Fit\n",
    "svr_model.fit(X_train, y_train)\n",
    "\n",
    "#predict\n",
    "y_test_pred = svr_model.predict(X_test)"
   ]
  },
  {
   "cell_type": "markdown",
   "id": "4dc8b19f",
   "metadata": {},
   "source": [
    "### Lasso Regression train and predict"
   ]
  },
  {
   "cell_type": "code",
   "execution_count": 175,
   "id": "ad8d9581",
   "metadata": {},
   "outputs": [],
   "source": [
    "# Model kurma\n",
    "lasso_model = Lasso(alpha=0.1, max_iter=10000)\n",
    "# fit\n",
    "lasso_model.fit(X_train, y_train)\n",
    "lasso_pred = lasso_model.predict(X_test)"
   ]
  },
  {
   "cell_type": "markdown",
   "id": "e1e0863b",
   "metadata": {},
   "source": [
    "### Ridge Regression train and predict"
   ]
  },
  {
   "cell_type": "code",
   "execution_count": 181,
   "id": "fce62b3a",
   "metadata": {},
   "outputs": [],
   "source": [
    "ridge_model = Ridge(alpha=0.5)  # alpha, düzenleme parametresidir (lambda)\n",
    "#Fit\n",
    "ridge_model.fit(X_train, y_train)\n",
    "#predict\n",
    "ridge_pred=ridge_model.predict(X_test)\n"
   ]
  },
  {
   "cell_type": "markdown",
   "id": "80628054",
   "metadata": {},
   "source": [
    "### Elastic Net  train and predict"
   ]
  },
  {
   "cell_type": "code",
   "execution_count": 185,
   "id": "fcd3561c",
   "metadata": {},
   "outputs": [],
   "source": [
    "elastic_net_model = ElasticNet(alpha=0.1, l1_ratio=0.5)  # alpha ve l1_ratio parametreleri seçilir\n",
    "\n",
    "# Fit\n",
    "elastic_net_model.fit(X_train, y_train)\n",
    "#Predict \n",
    "elastic_net_model_pred=elastic_net_model.predict(X_test)"
   ]
  },
  {
   "cell_type": "markdown",
   "id": "15ab2949",
   "metadata": {},
   "source": [
    "### Decission Tree Regression"
   ]
  },
  {
   "cell_type": "code",
   "execution_count": 189,
   "id": "0387a6e3",
   "metadata": {},
   "outputs": [],
   "source": [
    "iowa_model = DecisionTreeRegressor(random_state=1)\n",
    "# Fit Model\n",
    "iowa_model.fit(train_X, train_y)\n",
    "# Predict \n",
    "iowa_model_pred=iowa_model.predict(X_test)"
   ]
  },
  {
   "cell_type": "markdown",
   "id": "f874ec4a",
   "metadata": {},
   "source": [
    "## RMSLE root mean squered log error Function "
   ]
  },
  {
   "cell_type": "code",
   "execution_count": 145,
   "id": "63395a62",
   "metadata": {},
   "outputs": [],
   "source": [
    "def root_mean_squared_log_error(y_true, y_pred):\n",
    "    assert len(y_true) == len(y_pred)\n",
    "    rmsle = np.sqrt(np.mean(np.square(np.log1p(y_pred) - np.log1p(y_true))))\n",
    "    return rmsle"
   ]
  },
  {
   "cell_type": "markdown",
   "id": "af92fa43",
   "metadata": {},
   "source": [
    "# Regressions RMSLE (Root mean score log error) score test code"
   ]
  },
  {
   "cell_type": "markdown",
   "id": "ed4dab4e",
   "metadata": {},
   "source": [
    "### Forest regression RMSLE"
   ]
  },
  {
   "cell_type": "code",
   "execution_count": 146,
   "id": "fb38f365",
   "metadata": {
    "scrolled": true
   },
   "outputs": [
    {
     "name": "stdout",
     "output_type": "stream",
     "text": [
      "RMSLE: 0.1551288519677658\n"
     ]
    }
   ],
   "source": [
    "#forest regression\n",
    "rmsle = root_mean_squared_log_error(y_test, model_pred)\n",
    "print(\"RMSLE:\", rmsle)"
   ]
  },
  {
   "cell_type": "markdown",
   "id": "485a25b6",
   "metadata": {},
   "source": [
    "### Linear regression RMSLE"
   ]
  },
  {
   "cell_type": "code",
   "execution_count": 154,
   "id": "701534bc",
   "metadata": {
    "scrolled": true
   },
   "outputs": [
    {
     "name": "stdout",
     "output_type": "stream",
     "text": [
      "RMSLE: 0.16638606938972655\n"
     ]
    }
   ],
   "source": [
    "#linear model regression\n",
    "rmsle = root_mean_squared_log_error(y_test, lm_pred)\n",
    "print(\"RMSLE:\", rmsle)\n"
   ]
  },
  {
   "cell_type": "markdown",
   "id": "47067842",
   "metadata": {},
   "source": [
    "### Support regression RMSLE"
   ]
  },
  {
   "cell_type": "code",
   "execution_count": 159,
   "id": "ffda3ece",
   "metadata": {},
   "outputs": [
    {
     "name": "stdout",
     "output_type": "stream",
     "text": [
      "RMSLE: 0.15651669475600244\n"
     ]
    }
   ],
   "source": [
    "#Support Vector Regression\n",
    "rmsle = root_mean_squared_log_error(y_test, y_test_pred)\n",
    "print(\"RMSLE:\", rmsle)"
   ]
  },
  {
   "cell_type": "markdown",
   "id": "bc0e6afa",
   "metadata": {},
   "source": [
    "### Losso regression RMSLE"
   ]
  },
  {
   "cell_type": "code",
   "execution_count": 176,
   "id": "2e6d1548",
   "metadata": {},
   "outputs": [
    {
     "name": "stdout",
     "output_type": "stream",
     "text": [
      "RMSLE: 0.20742482159520179\n"
     ]
    }
   ],
   "source": [
    "#Losso Vector Regression\n",
    "rmsle = root_mean_squared_log_error(y_test, lasso_pred)\n",
    "print(\"RMSLE:\", rmsle)"
   ]
  },
  {
   "cell_type": "markdown",
   "id": "48a5ecb8",
   "metadata": {},
   "source": [
    "### Ridge regression RMSLE"
   ]
  },
  {
   "cell_type": "code",
   "execution_count": 182,
   "id": "4a57ceae",
   "metadata": {},
   "outputs": [
    {
     "name": "stdout",
     "output_type": "stream",
     "text": [
      "RMSLE: 0.1663524912313272\n"
     ]
    }
   ],
   "source": [
    "#Ridge Vector Regression\n",
    "rmsle = root_mean_squared_log_error(y_test, ridge_pred)\n",
    "print(\"RMSLE:\", rmsle)"
   ]
  },
  {
   "cell_type": "markdown",
   "id": "16aa1ef8",
   "metadata": {},
   "source": [
    "### Elastic Net  RMSLE"
   ]
  },
  {
   "cell_type": "code",
   "execution_count": 186,
   "id": "238e8b54",
   "metadata": {},
   "outputs": [
    {
     "name": "stdout",
     "output_type": "stream",
     "text": [
      "RMSLE: 0.21034392281785008\n"
     ]
    }
   ],
   "source": [
    "#Elastic Net Regression\n",
    "rmsle = root_mean_squared_log_error(y_test, elastic_net_model_pred)\n",
    "print(\"RMSLE:\", rmsle)"
   ]
  },
  {
   "cell_type": "markdown",
   "id": "731c0a74",
   "metadata": {},
   "source": [
    "### Decission Tree RMSLE"
   ]
  },
  {
   "cell_type": "code",
   "execution_count": 209,
   "id": "2c5a4a1f",
   "metadata": {},
   "outputs": [
    {
     "name": "stdout",
     "output_type": "stream",
     "text": [
      "RMSLE: 0.10629245967302503\n"
     ]
    }
   ],
   "source": [
    "#Decission Tree Regression\n",
    "rmsle = root_mean_squared_log_error(y_test, iowa_model_pred)\n",
    "print(\"RMSLE:\", rmsle)"
   ]
  },
  {
   "cell_type": "markdown",
   "id": "367e61fd",
   "metadata": {},
   "source": [
    "***Decission tree regression score is better than from other regression model***"
   ]
  },
  {
   "cell_type": "code",
   "execution_count": 215,
   "id": "3e5377ee",
   "metadata": {},
   "outputs": [],
   "source": [
    "rf_model_on_full_data = DecisionTreeRegressor()\n",
    "rf_model_on_full_data.fit(X, y)\n",
    "\n",
    "test_X = test_data[features]\n",
    "test_preds = rf_model_on_full_data.predict(test_X)\n"
   ]
  },
  {
   "cell_type": "code",
   "execution_count": 217,
   "id": "de8ab62d",
   "metadata": {},
   "outputs": [],
   "source": [
    "output = pd.DataFrame({'Id': test_data.id,\n",
    "                       'Rings': test_preds})\n",
    "output.to_csv('submission.csv', index=False)"
   ]
  }
 ],
 "metadata": {
  "kernelspec": {
   "display_name": "Python 3 (ipykernel)",
   "language": "python",
   "name": "python3"
  },
  "language_info": {
   "codemirror_mode": {
    "name": "ipython",
    "version": 3
   },
   "file_extension": ".py",
   "mimetype": "text/x-python",
   "name": "python",
   "nbconvert_exporter": "python",
   "pygments_lexer": "ipython3",
   "version": "3.11.5"
  }
 },
 "nbformat": 4,
 "nbformat_minor": 5
}
